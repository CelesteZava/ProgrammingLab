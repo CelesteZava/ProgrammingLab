{
 "cells": [
  {
   "cell_type": "markdown",
   "metadata": {},
   "source": [
    "### **1. Indicizzazione booleana**\n",
    "\n",
    "1. Creare un nuovo vettore con tutti i numeri primi tra 0 e 20. I numeri primi compresi tra 0 e 20 sono: **2, 3, 5, 7, 11, 13, 17, 19**.\n",
    "\n",
    "2. Utilizza un test logico (ad esempio `>`, `<`, `==`, `!=`) per **selezionare tutte le voci del vettore maggiori di 10**.\n",
    "\n",
    "3. Utilizza un test logico per selezionare **tutti i numeri primi pari** dalla lista.  \n"
   ]
  },
  {
   "cell_type": "code",
   "execution_count": 32,
   "metadata": {},
   "outputs": [
    {
     "name": "stdout",
     "output_type": "stream",
     "text": [
      "[ 1  2  3  5  7 11 13 17 19]\n",
      "[11 13 17 19]\n",
      "[2]\n"
     ]
    }
   ],
   "source": [
    "import numpy as np\n",
    "\n",
    "def eprimo(x,y):\n",
    "    if x==1 or y==1:        #se y=1 vuol dire che prima non ha trovato nessuma divisione che desse risultato positivo, quindi x è primo\n",
    "        return True\n",
    "    elif x%y==0:            #se x è divisibile per y, allora x non è primo\n",
    "        return False\n",
    "    else:\n",
    "        return eprimo(x,y-1)    #ricorsione con y-1\n",
    "\n",
    "primi = np.array([i for i in range(0,20) if eprimo(i, i-1)])   #aggiunge i  numeri da 0 a 20 solo se la funzione eprimo ritorna True\n",
    "print(primi)\n",
    "\n",
    "print(primi[primi>10])\n",
    "print(primi[primi%2==0])\n"
   ]
  },
  {
   "cell_type": "markdown",
   "metadata": {},
   "source": [
    "### **2.  Operazioni su array**\n",
    "Crea un array **a**, 2D (senza digitarlo esplicitamente), e genera due nuovi array **b**, contenente la sua 2ª e 4ª riga, e **c** contenente solo la 3ª.  Dividi ogni colonna dell'array a, elemento per elemento, con l'array c."
   ]
  },
  {
   "cell_type": "code",
   "execution_count": 33,
   "metadata": {},
   "outputs": [
    {
     "name": "stdout",
     "output_type": "stream",
     "text": [
      "[[ 1  2  3  4]\n",
      " [ 5  6  7  8]\n",
      " [ 9 10 11 12]\n",
      " [13 14 15 16]\n",
      " [17 18 19 20]] \n",
      "\n",
      " [[ 5  6  7  8]\n",
      " [13 14 15 16]] \n",
      "\n",
      " [13 14 15 16]\n",
      "\n",
      " [[0.07692308 0.14285714 0.2        0.25      ]\n",
      " [0.38461538 0.42857143 0.46666667 0.5       ]\n",
      " [0.69230769 0.71428571 0.73333333 0.75      ]\n",
      " [1.         1.         1.         1.        ]\n",
      " [1.30769231 1.28571429 1.26666667 1.25      ]]\n"
     ]
    }
   ],
   "source": [
    "import numpy as np\n",
    "a = np.arange(1,21).reshape(5,4)    #numeri da 1 a 21 (escluso) in una matrice 5x4\n",
    "b = np.array(a[[1,3],:])            #prende la seconda e la quarta della matrice a\n",
    "c = np.array(a[3, :])               #prende la riga 3 della matrice a\n",
    "print(a, \"\\n\\n\", b, \"\\n\\n\", c)\n",
    "\n",
    "print(\"\\n\",a/c)"
   ]
  },
  {
   "cell_type": "markdown",
   "metadata": {},
   "source": [
    "### **3. Seleziona il numero più vicino a 0.5 in un array casuale**\n",
    "Genera un array 10 x 3 con numeri casuali nell'intervallo [0,1].\n",
    "Per ogni riga, seleziona il numero più vicino a 0.5. Per farlo usa il fancy indexing."
   ]
  },
  {
   "cell_type": "code",
   "execution_count": 35,
   "metadata": {},
   "outputs": [
    {
     "name": "stdout",
     "output_type": "stream",
     "text": [
      "Array iniziale [[0.66331154 0.31896867 0.18220999]\n",
      " [0.38987629 0.96934134 0.04149499]\n",
      " [0.26405023 0.48032561 0.56685863]\n",
      " [0.72737707 0.44997691 0.93916538]\n",
      " [0.53961896 0.0941217  0.98362201]\n",
      " [0.19088147 0.5660491  0.44250726]\n",
      " [0.87622246 0.62232142 0.32052372]\n",
      " [0.77997843 0.42323761 0.66305977]\n",
      " [0.88125066 0.73627978 0.81332998]\n",
      " [0.01800701 0.42425868 0.82443538]] \n",
      "\n",
      "Array -0.5 [[0.16331154 0.18103133 0.31779001]\n",
      " [0.11012371 0.46934134 0.45850501]\n",
      " [0.23594977 0.01967439 0.06685863]\n",
      " [0.22737707 0.05002309 0.43916538]\n",
      " [0.03961896 0.4058783  0.48362201]\n",
      " [0.30911853 0.0660491  0.05749274]\n",
      " [0.37622246 0.12232142 0.17947628]\n",
      " [0.27997843 0.07676239 0.16305977]\n",
      " [0.38125066 0.23627978 0.31332998]\n",
      " [0.48199299 0.07574132 0.32443538]] \n",
      "\n",
      "Array dei numeri più vicini a 0.5 [0.31896867 0.31896867 0.96934134 0.96934134 0.31896867 0.48032561\n",
      " 0.96934134 0.96934134 0.96934134 0.96934134]\n"
     ]
    }
   ],
   "source": [
    "import numpy as np\n",
    "a=np.random.rand(10,3)             #crea un array 10x3 con numeri casuali tra 0 e 1\n",
    "print(\"Array iniziale\", a, \"\\n\")\n",
    "meno=np.abs(a-0.5)                 #calcola il valore assoluto della differenza tra i numeri dell'array e 0.5\n",
    "print(\"Array -0.5\", meno, \"\\n\")\n",
    "b=a[np.argmin(meno, axis=1), 1]    #trova l'indice del valore minimo della differenza per ogni riga e prende il secondo elemento di quella riga\n",
    "print(\"Array dei numeri più vicini a 0.5\", b)\n"
   ]
  },
  {
   "cell_type": "markdown",
   "metadata": {},
   "source": [
    "### **4. Analisi della Frequenza Cardiaca con NumPy**\n",
    "\n",
    "1. **Supponiamo che i seguenti valori rappresentino la tua frequenza cardiaca** registrata dal tuo Fitbit durante la giornata:  \n",
    "   `68, 65, 77, 110, 160, 161, 162, 161, 160, 161, 162, 163, 164, 163, 162, 100, 90, 97, 72, 60, 70`  \n",
    "   Inserisci questi valori in un array NumPy.\n",
    "\n",
    "2. **Trova la frequenza cardiaca minima** registrata durante la giornata.  \n",
    "   _(Questo valore rappresenta approssimativamente la tua frequenza cardiaca a riposo, un comune indicatore di salute.)_\n",
    "\n",
    "3. **Trova la frequenza cardiaca massima** registrata durante la giornata.  \n",
    "   _(Questo valore è un'indicazione dell'intensità dell'esercizio fisico.)_\n",
    "\n",
    "4. **Calcoliamo la percentuale di letture effettuate mentre stavi facendo esercizio fisico (frequenza cardiaca sopra a 120)**:  \n",
    "   - Crea un nuovo array che contiene `True` quando la frequenza cardiaca è **superiore a 120**, e `False` quando è **inferiore o uguale a 120**.\n",
    "   - Utilizza una funzione di sintesi per calcolare la percentuale di osservazioni in cui la tua frequenza cardiaca era sopra 120.\n"
   ]
  },
  {
   "cell_type": "code",
   "execution_count": 36,
   "metadata": {},
   "outputs": [
    {
     "name": "stdout",
     "output_type": "stream",
     "text": [
      "Il valore minimo di oggi è stato:  60\n",
      "Il valore massimo di oggi è stato:  164\n",
      "La percentuale di volte che la frequenza cardiaca era >120 è stata:  0.5238095238095238 %\n"
     ]
    }
   ],
   "source": [
    "import numpy as np\n",
    "card=np.array([68, 65, 77, 110, 160, 161, 162, 161, 160, 161, 162, 163, 164, 163, 162, 100, 90, 97, 72, 60, 70])\n",
    "print(\"Il valore minimo di oggi è stato: \", card.min())\n",
    "print(\"Il valore massimo di oggi è stato: \", card.max())\n",
    "sport=np.array([True if x>120 else False for x in card])      #seleziono solo i valori >120\n",
    "print(\"La percentuale di volte che la frequenza cardiaca era >120 è stata: \", sport.mean(), \"%\")\n"
   ]
  },
  {
   "cell_type": "markdown",
   "metadata": {},
   "source": [
    "### **5. Manipolazione di vettori**\n",
    "\n",
    "1. Creare un vettore contenente i seguenti stipendi: **50.000, 105.250, 55.000, 89.000**.  \n",
    "Qual è il costo totale del personale (somma di tutti gli stipendi dell'azienda)?\n",
    "\n",
    "2. Supponiamo che il nostro malvagio CEO abbia deciso di darsi un aumento.  \n",
    "Modifica il vettore degli stipendi in modo che il CEO, la persona che guadagna **105.250 dollari**, riceva un aumento del **15%**.\n",
    "\n",
    "3. Il **115%** di **105.250 dollari** è **121.037,50 dollari**.  \n",
    "Questo valore è presente nel tuo array? Se no, riesci a capire il motivo?\n",
    "\n",
    "4. Ricrea il vettore e utilizza l'argomento **`dtype`** in modo che, quando il CEO riceve un aumento del **15%**, il suo stipendio finale sia esattamente **121.037,50 dollari**.\n",
    "\n",
    "5. Questo aumento ha infastidito l'impiegata con lo stipendio più basso (**50.000 dollari**), che ora pretende un aumento del **20%**.  \n",
    "Modifica il vettore per riflettere questo cambiamento.\n",
    "\n",
    "6. L'aumento dato al CEO e all'impiegata ha irritato gli altri due dipendenti, quindi ora devono ricevere un aumento del **10%**.  \n",
    "Modifica il vettore di conseguenza.\n",
    "\n",
    "7. Calcola il **costo totale del personale** dopo tutti gli aumenti.  \n",
    "Alla fine, quanto è costato all'azienda l'aumento di circa **16.000 dollari** del CEO?\n"
   ]
  },
  {
   "cell_type": "code",
   "execution_count": 21,
   "metadata": {},
   "outputs": [
    {
     "name": "stdout",
     "output_type": "stream",
     "text": [
      "La somma degli stipendi è:  299250\n",
      "Il nuovo stipendio del CEO è:  121037.49999999999\n",
      "I nuovi stipendi sono: [ 50000 121037  55000  89000]\n",
      "\n",
      "Con dtype\n",
      "Il nuovo stipendio del CEO è:  121037.49999999999\n",
      "I nuovi stipendi sono: [ 50000.  121037.5  55000.   89000. ]\n",
      "\n",
      "Il nuovo stipendio della dipendente è:  60000.0\n",
      "I nuovi stipendi sono: [ 60000.  121037.5  55000.   89000. ]\n",
      "\n",
      "Il nuovo stipendio del dipendente uno è:  60500.00000000001\n",
      "Il nuovo stipendio del dipendente due è:  97900.00000000001\n",
      "I nuovi stipendi sono: [ 60000.  121037.5  60500.   97900. ]\n",
      "\n",
      "Il costo totale degli stipendi è:  339437.5\n",
      "E' costato all'azienda:  24400.5\n"
     ]
    }
   ],
   "source": [
    "import numpy as np\n",
    "#1\n",
    "s=np.array([50000, 105250, 55000, 89000])\n",
    "print(\"La somma degli stipendi è: \", s.sum())\n",
    "#2\n",
    "nuovo=s[1]*1.15         #nuovo stipendio del CEO\n",
    "print(\"Il nuovo stipendio del CEO è: \", nuovo)\n",
    "n=s               #creiamo una nuova copia dell'array\n",
    "n[1]=nuovo        #sostituiamo il nuovo stipendio del CEO\n",
    "print(\"I nuovi stipendi sono:\", n)\n",
    "#3\n",
    "#Il valore è uguale\n",
    "#4\n",
    "print(\"\\nCon dtype\")\n",
    "sd=np.array([50000, 105250, 55000, 89000], dtype=np.float64)\n",
    "nuovo=sd[1]*1.15         #nuovo stipendio del CEO\n",
    "print(\"Il nuovo stipendio del CEO è: \", nuovo)\n",
    "n=sd               #creiamo una nuova copia dell'array\n",
    "n[1]=nuovo                    #sostituiamo il nuovo stipendio del CEO\n",
    "print(\"I nuovi stipendi sono:\", n)\n",
    "#5\n",
    "nuovo=sd[0]*1.20         #nuovo stipendio della dipendente\n",
    "print(\"\\nIl nuovo stipendio della dipendente è: \", nuovo)\n",
    "n[0]=nuovo        #sostituiamo il nuovo stipendio della dipendente\n",
    "print(\"I nuovi stipendi sono:\", n)\n",
    "#6\n",
    "nuovouno=sd[2]*1.10         #nuovo stipendio del dipendente uno\n",
    "nuovodue=sd[3]*1.10         #nuovo stipendio del dipendente due\n",
    "print(\"\\nIl nuovo stipendio del dipendente uno è: \", nuovouno)\n",
    "print(\"Il nuovo stipendio del dipendente due è: \", nuovodue)\n",
    "n[2]=nuovouno        #sostituiamo il nuovo stipendio del dipendente uno\n",
    "n[3]=nuovodue        #sostituiamo il nuovo stipendio del dipendente due\n",
    "print(\"I nuovi stipendi sono:\", n)\n",
    "#7\n",
    "print(\"\\nIl costo totale degli stipendi è: \", n.sum())\n",
    "print(\"E' costato all'azienda: \", n.sum()-s.sum())"
   ]
  },
  {
   "cell_type": "markdown",
   "metadata": {},
   "source": [
    "### **6. Valori di Co2**\n",
    "\n",
    "1. Carica tramite numpy il file generato e salvato a lezione sulle emissioni di CO2\n",
    "\n",
    "2. Calcola quanti valori ci CO2 sono sopra la soglia di 18  tonnellate per anno ed il loro valore medio\n",
    "\n",
    "3. Calcola la frazione totale di emissione sopra la soglia (somma totale sopra la soglia/somma totale)"
   ]
  },
  {
   "cell_type": "code",
   "execution_count": null,
   "metadata": {},
   "outputs": [],
   "source": []
  },
  {
   "cell_type": "markdown",
   "metadata": {},
   "source": [
    "### **7. Analisi di una matrice**\n",
    "Data la matrice survey con età, reddito e anni di istruzione\n",
    "\n",
    "survey_matrix = np.array([\n",
    "    [25, 40000, 10],\n",
    "    [32, 52000, 12],\n",
    "    [40, 63000, 14],\n",
    "    [29, 47000, 11],\n",
    "    [35, 58000, 13]\n",
    "])\n",
    "\n",
    "\n",
    "1. Seleziona dalla matrice solo gli intervistati con **almeno 12 anni di istruzione** utilizzando un test logico.\n",
    "\n",
    "2. In un'unica riga di codice, seleziona i **redditi** degli intervistati con **almeno 12 anni di istruzione**.\n",
    "\n",
    "3. In un'unica riga di codice, calcola il **reddito medio** degli intervistati con **almeno 12 anni di istruzione**.\n"
   ]
  },
  {
   "cell_type": "code",
   "execution_count": 37,
   "metadata": {},
   "outputs": [
    {
     "name": "stdout",
     "output_type": "stream",
     "text": [
      "Gli intervistati con almeno 12 anni di istruzione sono in posizione:  (array([1, 2, 4]),)\n",
      "I loro redditi sono:  [[52000 63000 58000]]\n",
      "Il reddito medio è:  57666.666666666664\n"
     ]
    }
   ],
   "source": [
    "import numpy as np\n",
    "survey_matrix = np.array([\n",
    "    [25, 40000, 10],\n",
    "    [32, 52000, 12],\n",
    "    [40, 63000, 14],\n",
    "    [29, 47000, 11],\n",
    "    [35, 58000, 13]\n",
    "])\n",
    "#1\n",
    "d=np.where(survey_matrix[::, 2]>=12)       # trova gli indici delle righe dove gli anni di istruzione sono maggiori o uguale a 12\n",
    "print(\"Gli intervistati con almeno 12 anni di istruzione sono in posizione: \",d)\n",
    "#2\n",
    "print(\"I loro redditi sono: \", ( survey_matrix[d, 1]))\n",
    "#3\n",
    "print(\"Il reddito medio è: \", (survey_matrix[d, 1]).mean())"
   ]
  },
  {
   "cell_type": "markdown",
   "metadata": {},
   "source": []
  },
  {
   "cell_type": "markdown",
   "metadata": {},
   "source": [
    "### **8. Rimpiazzare gli outliers**\n",
    "\n",
    "Vediamo se possiamo ripulire alcuni dati mancanti. Immagina di essere il responsabile dei registri di un comune locale con **500 cittadini** di **55 anni e oltre**.  \n",
    "\n",
    "La città è famosa per la sua longevità e un team di ricercatori ti ha chiesto di identificare **il cittadino più anziano**.  \n",
    "\n",
    "Il problema è che, occasionalmente, nei registri si verificano errori e in quei casi viene inserita l'età **999** invece dell'età corretta.  \n",
    "\n",
    "Rimuovi i dati errati dall'array e determina l'età del cittadino più anziano.\n"
   ]
  },
  {
   "cell_type": "code",
   "execution_count": 38,
   "metadata": {},
   "outputs": [
    {
     "name": "stdout",
     "output_type": "stream",
     "text": [
      "Il cittadino più anziano ha 112.0 anni\n"
     ]
    }
   ],
   "source": [
    "import numpy as np\n",
    "ages = np.array([92, 108, 75, 63, 62, 66, 90, 98, 97, 92, 60, 107, 90, 71, 97, 86, 55, 55,\n",
    "                 98, 57, 96, 104, 96, 94, 72, 98, 111, 98, 89, 69, 77, 92, 85, 101, 93, 100,\n",
    "                 90, 101, 96, 98, 999, 87, 106, 86, 108, 55, 67, 65, 68, 59, 67, 72, 57, 79,\n",
    "                 95, 67, 86, 70, 91, 111, 67, 75, 59, 88, 90, 99, 94, 65, 111, 103, 100, 70,\n",
    "                 63, 65, 100, 110, 999, 70, 57, 75, 56, 104, 111, 90, 74, 100, 90, 86, 88, 99,\n",
    "                 58, 103, 88, 103, 64, 96, 105, 89, 83, 65, 100, 62, 73, 105, 83, 105, 58, 96,\n",
    "                 77, 74, 95, 109, 91, 101, 91, 999, 63, 111, 97, 108, 75, 77, 73, 58, 94, 83,\n",
    "                 90, 61, 110, 107, 105, 85, 64, 66, 71, 107, 105, 72, 78, 66, 100, 102, 72, 999,\n",
    "                 74, 68, 73, 72, 90, 93, 99, 55, 92, 83, 58, 71, 89, 75, 98, 87, 999, 78,\n",
    "                 97, 71, 106, 83, 58, 81, 100, 72, 93, 70, 65, 60, 95, 107, 94, 77, 87, 90,\n",
    "                 82, 56, 99, 107, 86, 56, 73, 96, 64, 69, 64, 92, 57, 104, 110, 69, 66, 68,\n",
    "                 84, 89, 72, 80, 55, 75, 87, 57, 106, 69, 66, 62, 102, 76, 111, 999, 96, 83,\n",
    "                 84, 61, 102, 63, 107, 63, 76, 58, 83, 58, 61, 71, 77, 90, 74, 100, 103, 74,\n",
    "                 92, 102, 63, 87, 93, 61, 63, 86, 74, 98, 64, 999, 78, 95, 84, 81, 107, 85,\n",
    "                 79, 82, 89, 65, 107, 57, 74, 77, 97, 92, 58, 96, 105, 60, 55, 74, 57, 80,\n",
    "                 62, 85, 87, 62, 999, 71, 74, 70, 97, 59, 82, 96, 105, 70, 89, 105, 60, 70,\n",
    "                 87, 999, 64, 108, 107, 104, 85, 95, 108, 74, 64, 97, 89, 88, 79, 67, 81, 92,\n",
    "                 63, 80, 76, 94, 104, 67, 73, 61, 99, 96, 68, 90, 86, 79, 85, 111, 75, 98,\n",
    "                 81, 111, 108, 103, 85, 72, 108, 102, 999, 64, 107, 112, 66, 93, 89, 78, 66, 92,\n",
    "                 63, 101, 92, 64, 72, 56, 71, 64, 87, 78, 107, 85, 109, 95, 69, 111, 64, 72,\n",
    "                 55, 66, 99, 57, 78, 55, 58, 90, 88, 71, 90, 103, 92, 98, 67, 97, 77, 68,\n",
    "                 77, 59, 78, 69, 77, 81, 61, 99, 999, 85, 78, 104, 97, 95, 74, 70, 69, 83,\n",
    "                 68, 68, 77, 60, 85, 82, 93, 66, 71, 62, 64, 107, 999, 65, 78, 59, 83, 67,\n",
    "                 108,  58,  95, 106,  83,  79,  67,  59,  96,  90,  55,  55,  96, 109,  82,  55, 101,  58,\n",
    "                 97, 77, 60, 81, 999, 81, 75, 100, 66, 65, 105, 94, 101, 56, 999, 59, 105, 59,\n",
    "                 93, 56, 104, 74, 81, 62, 76, 65, 107, 60, 107, 98, 77, 86, 83, 104, 74, 69,\n",
    "                 97, 80, 91, 56, 108, 87, 65, 91, 93, 60, 91, 110, 107, 88, 96, 70, 60, 99,\n",
    "                 66, 91, 107, 65, 81, 109, 84, 106, 80, 92, 78, 84, 91, 59], dtype=float)    #aggiungo dtype=float così posso usare la funzione nan\n",
    "ages[ages==999]=np.nan                #sostituisco i valori 999 con NaN\n",
    "print(\"Il cittadino più anziano ha %s anni\" % np.nanmax(ages))"
   ]
  },
  {
   "cell_type": "markdown",
   "metadata": {},
   "source": [
    "### 9.**Generazione random di storie**\n",
    "\n",
    "Usando la lista qui sotto, estrai casualmente **5 parole con reinserimento** (cioè, i duplicati sono ammessi).  \n",
    "\n",
    "Successivamente, inserisci casualmente queste parole negli spazi vuoti (indicati con \"_\") nella seguente frase:\n",
    "\n",
    "*\"In epoche passate, viveva una donna saggia che era molto orgogliosa dell'antico __ che proteggeva. Quando un anziano del villaggio venne a chiederle consiglio su come garantire al meglio un raccolto abbondante e le offrì il __ come dono, i suoi occhi si spalancarono e lei esclamò una sola parola, \"__\".  \n",
    "Radunò il villaggio e, per i successivi 100 giorni, su sua richiesta, gli abitanti cercarono nella foresta un __.  \n",
    "Nel 101° giorno, il bambino più giovane del villaggio trovò ciò che stavano cercando e tutti corsero dalla donna saggia per donarglielo.  \n",
    "Con un sorriso da un orecchio all’altro, e cantando canti di festa, la donna saggia guardò i suoi compaesani e disse: \"Ora è giunto il tempo del banchetto - nessuno rimarrà mai più senza _!\" Ci fu grande gioia e celebrazione.\"*\n"
   ]
  },
  {
   "cell_type": "code",
   "execution_count": 31,
   "metadata": {},
   "outputs": [
    {
     "name": "stdout",
     "output_type": "stream",
     "text": [
      "Le parole sono:  ['IGNORANZA', 'RICEVIMENTO', 'IMPERO', 'CONSEGNA', 'BIOGRAFIA']\n",
      "\n",
      "La frase è:  \n",
      "In epoche passate, viveva una donna saggia che era molto orgogliosa \n",
      "dell'antico IGNORANZA che proteggeva. Quando un anziano del villaggio venne a \n",
      "chiederle consiglio su come garantire al meglio un raccolto abbondante e le \n",
      "offrì il RICEVIMENTO come dono, i suoi occhi si spalancarono e lei esclamò una sola \n",
      "parola, IMPERO.  \n",
      "\n",
      "Radunò il villaggio e, per i successivi 100 giorni, su sua richiesta, gli \n",
      "abitanti cercarono nella foresta un CONSEGNA.  \n",
      "Nel 101° giorno, il bambino più giovane del villaggio trovò ciò che stavano \n",
      "cercando e tutti corsero dalla donna saggia per donarglielo.  \n",
      "Con un sorriso da un orecchio all’altro, e cantando canti di festa, la donna \n",
      "saggia guardò i suoi compaesani e disse: 'Ora è giunto il tempo del banchetto \n",
      "- nessuno rimarrà mai più senza BIOGRAFIA!' \n",
      "\n",
      "Ci fu grande gioia e celebrazione.\n"
     ]
    }
   ],
   "source": [
    "import random\n",
    "lista_parole = [\n",
    "    'INSEDIAMENTO', 'SEPARAZIONE', 'DIFFERENZA', 'APPLICAZIONE', 'ATTEGGIAMENTO', 'VERDURA', 'IMPERO', 'RICEVIMENTO',\n",
    "    'IGNORANZA', 'BIOGRAFIA', 'VISIONE', 'AGENTE DI POLIZIA', 'PROVA', 'PRESTAZIONE', 'PRESENTAZIONE', 'PARENTE',\n",
    "    'GIUSTIFICAZIONE', 'FILOSOFIA', 'DIREZIONE', 'BENEFICIARIO', 'BATTERIA', 'CERIMONIA', 'AGONIA', 'RECUPERO',\n",
    "    'ALFABETIZZAZIONE', 'CONSEGNA', 'SERBATOIO', 'VOLONTARIO', 'DEPOSITO', 'BIRILLO DA BOWLING', 'NEMICO', 'ANNUNCIO',\n",
    "    'CARAMELLA ZUCCHERATA', 'FULMINE', 'PALLONCINO', 'COPERTA', 'SCOPERTA', 'PENALITÀ', 'GENERALE', 'ALPACA',\n",
    "    'VANTAGGIO', 'HOT DOG', 'ABITO', 'MATEMATICA', 'VARIANTE'\n",
    "]\n",
    "\n",
    "frase=(\"\\nIn epoche passate, viveva una donna saggia che era molto orgogliosa \\ndell'antico __ che proteggeva. Quando un anziano del villaggio venne a \\nchiederle consiglio su come garantire al meglio un raccolto abbondante e le \\noffrì il __ come dono, i suoi occhi si spalancarono e lei esclamò una sola \\nparola, __.  \\n\\nRadunò il villaggio e, per i successivi 100 giorni, su sua richiesta, gli \\nabitanti cercarono nella foresta un __.  \\nNel 101° giorno, il bambino più giovane del villaggio trovò ciò che stavano \\ncercando e tutti corsero dalla donna saggia per donarglielo.  \\nCon un sorriso da un orecchio all’altro, e cantando canti di festa, la donna \\nsaggia guardò i suoi compaesani e disse: 'Ora è giunto il tempo del banchetto \\n- nessuno rimarrà mai più senza __!' \\n\\nCi fu grande gioia e celebrazione.\")\n",
    "parole=[random.choice(lista_parole) for i in range(5)]\n",
    "print(\"Le parole sono: \", parole)\n",
    "\n",
    "for parola in parole:\n",
    "    frase=frase.replace(\"__\", parola, 1)\n",
    "print(\"\\nLa frase è: \", frase)\n"
   ]
  },
  {
   "cell_type": "code",
   "execution_count": null,
   "metadata": {},
   "outputs": [],
   "source": []
  },
  {
   "cell_type": "markdown",
   "metadata": {},
   "source": [
    "Esempio di output\n",
    "\n",
    "\n",
    "\"In epoche passate, viveva una donna saggia che era molto orgogliosa dell'antico APPLICAZIONE che proteggeva. \n",
    "Quando un anziano del villaggio venne a chiederle consiglio su come garantire al meglio un raccolto abbondante \n",
    "e le offrì il DEPOSITO come dono, i suoi occhi si spalancarono e lei esclamò una sola parola, \"PRESTAZIONE\".  \n",
    "\n",
    "Radunò il villaggio e, per i successivi 100 giorni, su sua richiesta, gli abitanti cercarono nella foresta un BIRILLO DA BOWLING. \n",
    "Nel 101° giorno, il bambino più giovane del villaggio trovò ciò che stavano cercando e tutti corsero dalla donna saggia per donarglielo. \n",
    "Con un sorriso da un orecchio all’altro, e cantando canti di festa, la donna saggia guardò i suoi compaesani e disse: \n",
    "\"Ora è giunto il tempo del banchetto - nessuno rimarrà mai più senza GIUSTIFICAZIONE!\"  \n",
    "\n",
    "Ci fu grande gioia e celebrazione.\""
   ]
  },
  {
   "cell_type": "code",
   "execution_count": null,
   "metadata": {},
   "outputs": [],
   "source": []
  }
 ],
 "metadata": {
  "kernelspec": {
   "display_name": "amb_cece",
   "language": "python",
   "name": "python3"
  },
  "language_info": {
   "codemirror_mode": {
    "name": "ipython",
    "version": 3
   },
   "file_extension": ".py",
   "mimetype": "text/x-python",
   "name": "python",
   "nbconvert_exporter": "python",
   "pygments_lexer": "ipython3",
   "version": "3.12.9"
  }
 },
 "nbformat": 4,
 "nbformat_minor": 2
}
