{
 "cells": [
  {
   "cell_type": "markdown",
   "metadata": {},
   "source": [
    "### **1. Trasformare cicli in list comprehension**\n",
    "\n",
    "Fai tre esempi di cicli producono una lista e poi riscrivi lo stesso codice usando la list comprehension"
   ]
  },
  {
   "cell_type": "code",
   "execution_count": 8,
   "metadata": {},
   "outputs": [
    {
     "name": "stdout",
     "output_type": "stream",
     "text": [
      "[1, 2, 3, 4, 5, 6, 7, 8, 9, 10, 11, 12, 13, 14, 15, 16, 17, 18, 19, 20]\n",
      "[1, 2, 3, 4, 5, 6, 7, 8, 9, 10, 11, 12, 13, 14, 15, 16, 17, 18, 19, 20]\n",
      "[1, 3, 5, 7, 9, 11, 13, 15, 17, 19]\n",
      "[1, 3, 5, 7, 9, 11, 13, 15, 17, 19]\n",
      "[2, 1, 4, 3, 6, 5, 8, 7, 10, 9, 12, 11, 14, 13, 16, 15, 18, 17, 20, 19]\n",
      "[2, 1, 4, 3, 6, 5, 8, 7, 10, 9, 12, 11, 14, 13, 16, 15, 18, 17, 20, 19]\n"
     ]
    }
   ],
   "source": [
    "lista1=[]\n",
    "for i in range(1,21):\n",
    "    lista1.append(i)\n",
    "\n",
    "print(lista1)\n",
    "\n",
    "lista11 = [i for i in range(1,21)]\n",
    "print(lista11)\n",
    "\n",
    "lista2=[]\n",
    "for i in range(1,21):\n",
    "    if i%2==1:\n",
    "        lista2.append(i)\n",
    "print(lista2)\n",
    "\n",
    "lista22=[i for i in range(1,21) if i%2==1]\n",
    "print(lista22)\n",
    "\n",
    "lista3=[]\n",
    "for i in range(1,21):\n",
    "    if i%2==1:\n",
    "        lista3.append(i+1)\n",
    "    else:\n",
    "        lista3.append(i-1)\n",
    "print(lista3)\n",
    "lista33=[i+1  if i%2==1 else i-1 for i in range(1,21)]\n",
    "print(lista33)"
   ]
  },
  {
   "cell_type": "markdown",
   "metadata": {},
   "source": [
    "### **2. Vettore di Numeri Primi**\n",
    "\n",
    "1. **Crea un vettore** contenente tutti i numeri primi compresi tra **0 e 10**  \n",
    "   _(Puoi scriverli direttamente nell'array)._\n",
    "\n",
    "2. **Conta quanti numeri ci sono nel vettore** utilizzando la funzione `len()`.  **Ottieni lo stesso numero** accedendo all'attributo `.size` del vettore.\n",
    "\n",
    "3. Quale pensi sia il tipo di dato (`dtype`) del vettore?  Prova a rispondere senza eseguire il codice e Verifica la tua risposta accedendo all'attributo `.dtype` del vettore\n",
    "\n",
    "4. Scrivi l'array usando una list comprehension che controlla che i numeri siano primi. "
   ]
  },
  {
   "cell_type": "code",
   "execution_count": 7,
   "metadata": {},
   "outputs": [
    {
     "name": "stdout",
     "output_type": "stream",
     "text": [
      "5\n",
      "5\n",
      "int64\n",
      "[1 2 3 5 7]\n"
     ]
    }
   ],
   "source": [
    "import numpy as np\n",
    "\n",
    "primi=np.array([1,2,3,5,7])\n",
    "print(len(primi))\n",
    "print(primi.size)\n",
    "\n",
    "print(primi.dtype)\n",
    "\n",
    "def eprimo(x, y):\n",
    "    if x==1 or y==1:\n",
    "        return True\n",
    "    elif x%y==0:\n",
    "        return False\n",
    "    else:\n",
    "        return eprimo(x, y-1)\n",
    "\n",
    "primi2=np.array([i for i in range(1,10) if eprimo(i,i-1)])\n",
    "print(primi2)\n"
   ]
  },
  {
   "cell_type": "code",
   "execution_count": null,
   "metadata": {},
   "outputs": [
    {
     "name": "stdout",
     "output_type": "stream",
     "text": [
      "[ 0  1  2  3  4  5  6  7  8  9 10 11 12 13 14 15 16 17 18 19]\n",
      "[17  1 19 10  1 16  3 17 12  4]\n",
      "[19 18 17 16 15 14 13 12 11 10  9  8  7  6  5  4  3  2  1  0]\n"
     ]
    }
   ],
   "source": [
    "import numpy as np\n",
    "\n",
    "a=np.array(range(20))\n",
    "b=np.random.choice(a, size=10,replace=True)\n",
    "c=np.array(a[::-1])\n",
    "print(a)\n",
    "print(b)\n",
    "print(c)\n"
   ]
  }
 ],
 "metadata": {
  "kernelspec": {
   "display_name": "amb_cece",
   "language": "python",
   "name": "python3"
  },
  "language_info": {
   "codemirror_mode": {
    "name": "ipython",
    "version": 3
   },
   "file_extension": ".py",
   "mimetype": "text/x-python",
   "name": "python",
   "nbconvert_exporter": "python",
   "pygments_lexer": "ipython3",
   "version": "3.12.9"
  }
 },
 "nbformat": 4,
 "nbformat_minor": 2
}
